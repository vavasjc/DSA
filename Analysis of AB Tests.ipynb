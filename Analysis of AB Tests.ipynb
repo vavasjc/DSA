{
 "cells": [
  {
   "cell_type": "markdown",
   "id": "f102a573-93c0-4c6e-a1ee-cd36a34621aa",
   "metadata": {},
   "source": [
    "# Analysis of A/B Tests with statistical foundation"
   ]
  },
  {
   "cell_type": "markdown",
   "id": "26c9d5e4-cedb-4823-adfa-be2d27fd8a88",
   "metadata": {},
   "source": [
    "## Objective"
   ]
  },
  {
   "cell_type": "markdown",
   "id": "c7b8b835-2459-4d20-b15e-a05bced48a54",
   "metadata": {},
   "source": [
    "Data analysts frequently provide reports comparing results before and after an experiment. Experiments can be setup changes, like the change of a call to action creative, the position of a button in a website, the size and kind of form type, etc. While the traditional A/B test requires that both control and test populations be active at the same time window - to avoid bias on the interpretation due to seasonality effects - even common comparisons not specifically structured as A/B tests can benefit from statistical significance Analysis."
   ]
  },
  {
   "cell_type": "markdown",
   "id": "4e9759d1-2d9a-4529-a2ac-98162e072a23",
   "metadata": {},
   "source": [
    "In the following exercises we will explore two of the most common comparison scenarios - the comparison of continuous metrics and the comparison of proportions. It's important to clarify from the outset whether the compared metrics are continuous or proportional, as they define whether you'll do a t-test (for continuous variables) or a z-test (for proportions). "
   ]
  },
  {
   "cell_type": "markdown",
   "id": "c2be7166-eac6-420f-8625-4ed8f301532e",
   "metadata": {},
   "source": [
    "**Continuous** variables are numerical values that can take on any value within a range and are not restricted to intergers. They are **not** proportions and can exceed 1. Examples: \n",
    "\n",
    "* *Avg Conversions per User*,\n",
    "* *Avg Ticket*,\n",
    "* *Avg Number of Products per Transaction*,\n",
    "* *Avg Session Time*\n",
    "\n",
    "  None of those metrics are percentage, (not constrained to 0<x<1). These will be compared by the use of t-tests, which can be **Student's t-test** (when variances are assumed to be equal) or **Welch's t-test** (when the variances of both compared groups are unequal)."
   ]
  },
  {
   "cell_type": "markdown",
   "id": "4a10225f-f793-4536-b7e5-1341e517d178",
   "metadata": {},
   "source": [
    "**Proportions** in the other hand represent the fraction of interest events out of the total possible events, resulting in values between the 0<x<1 range, and therefore can be expressed as percentages. Examples: \n",
    "\n",
    "* *Shoppers* % (Shoppers / Visitors, where shoppers are visitors that had transactions),\n",
    "* *Late Deliveries %* (number of late deliveries / total deliveries),\n",
    "* *CTR* (Clickthrough Rate - the number of clicks / displayed ads),\n",
    "* *CR* (Conversion Rate - the number of conversions / nb of clicks; the definition of a conversion can vary based on attributed models and time windows).\n",
    "\n",
    "To compare proportions between two groups, we use **z-tests for proportions**, suitable for binary outcomes representing success/failure events."
   ]
  },
  {
   "cell_type": "code",
   "execution_count": 199,
   "id": "4626082e-0e37-46ed-9d9e-c686bf897a4c",
   "metadata": {},
   "outputs": [
    {
     "data": {
      "text/html": [
       "<div>\n",
       "<style scoped>\n",
       "    .dataframe tbody tr th:only-of-type {\n",
       "        vertical-align: middle;\n",
       "    }\n",
       "\n",
       "    .dataframe tbody tr th {\n",
       "        vertical-align: top;\n",
       "    }\n",
       "\n",
       "    .dataframe thead th {\n",
       "        text-align: right;\n",
       "    }\n",
       "</style>\n",
       "<table border=\"1\" class=\"dataframe\">\n",
       "  <thead>\n",
       "    <tr style=\"text-align: right;\">\n",
       "      <th></th>\n",
       "      <th>Period</th>\n",
       "      <th>nb_users</th>\n",
       "      <th>avg_conv_per_user</th>\n",
       "      <th>var_conv_per_user</th>\n",
       "      <th>avg_ticket</th>\n",
       "      <th>var_avg_ticket</th>\n",
       "      <th>nb_displays</th>\n",
       "      <th>nb_clicks</th>\n",
       "      <th>nb_conversions</th>\n",
       "      <th>CTR</th>\n",
       "      <th>CR</th>\n",
       "    </tr>\n",
       "  </thead>\n",
       "  <tbody>\n",
       "    <tr>\n",
       "      <th>0</th>\n",
       "      <td>Before Setup Change</td>\n",
       "      <td>53430</td>\n",
       "      <td>1.60</td>\n",
       "      <td>0.5</td>\n",
       "      <td>33.43</td>\n",
       "      <td>150.0</td>\n",
       "      <td>1058307</td>\n",
       "      <td>49740</td>\n",
       "      <td>4904</td>\n",
       "      <td>0.047000</td>\n",
       "      <td>0.098593</td>\n",
       "    </tr>\n",
       "    <tr>\n",
       "      <th>1</th>\n",
       "      <td>After Setup Change</td>\n",
       "      <td>9701</td>\n",
       "      <td>1.41</td>\n",
       "      <td>0.6</td>\n",
       "      <td>34.53</td>\n",
       "      <td>160.0</td>\n",
       "      <td>198495</td>\n",
       "      <td>9620</td>\n",
       "      <td>1692</td>\n",
       "      <td>0.048465</td>\n",
       "      <td>0.175884</td>\n",
       "    </tr>\n",
       "  </tbody>\n",
       "</table>\n",
       "</div>"
      ],
      "text/plain": [
       "                Period  nb_users  avg_conv_per_user  var_conv_per_user  \\\n",
       "0  Before Setup Change     53430               1.60                0.5   \n",
       "1   After Setup Change      9701               1.41                0.6   \n",
       "\n",
       "   avg_ticket  var_avg_ticket  nb_displays  nb_clicks  nb_conversions  \\\n",
       "0       33.43           150.0      1058307      49740            4904   \n",
       "1       34.53           160.0       198495       9620            1692   \n",
       "\n",
       "        CTR        CR  \n",
       "0  0.047000  0.098593  \n",
       "1  0.048465  0.175884  "
      ]
     },
     "metadata": {},
     "output_type": "display_data"
    }
   ],
   "source": [
    "##-----------------------------\n",
    "# Libraries\n",
    "##-----------------------------\n",
    "import numpy as np\n",
    "import pandas as pd\n",
    "from scipy.stats import ttest_ind_from_stats\n",
    "#https://docs.scipy.org/doc/scipy/reference/generated/scipy.stats.ttest_ind_from_stats.html\n",
    "\n",
    "from statsmodels.stats.proportion import proportions_ztest\n",
    "# https://www.statsmodels.org/stable/generated/statsmodels.stats.proportion.proportions_ztest.html\n",
    "\n",
    "\n",
    "# Aggregated data\n",
    "data = {\n",
    "    'Period': ['Before Setup Change', 'After Setup Change'],\n",
    "    'nb_users': [53430, 9701],\n",
    "    'avg_conv_per_user': [1.60, 1.41],\n",
    "    'var_conv_per_user': [0.50, 0.60],  \n",
    "    'avg_ticket': [33.43, 34.53],\n",
    "    'var_avg_ticket': [150.0, 160.0],\n",
    "    'nb_displays': [1058307, 198495],  \n",
    "    'nb_clicks': [49740, 9620],         \n",
    "    'nb_conversions': [4904, 1692],     \n",
    "}\n",
    "\n",
    "df = pd.DataFrame(data)\n",
    "\n",
    "#Calculate CTR (Click-Through Rate)\n",
    "df['CTR'] = df['nb_clicks'] / df['nb_displays']\n",
    "\n",
    "#Calculate CR (Conversion Rate)\n",
    "df['CR'] = df['nb_conversions'] / df['nb_clicks']\n",
    "\n",
    "display(df)"
   ]
  },
  {
   "cell_type": "code",
   "execution_count": 237,
   "id": "c36b93ea-4f74-419d-819d-aec2feacfd7e",
   "metadata": {},
   "outputs": [
    {
     "name": "stdout",
     "output_type": "stream",
     "text": [
      "Average Transactions per User:\n",
      "T-statistic: 22.5160\n",
      "P-value: 3.9207e-110\n",
      "------\n",
      "The difference in avg_conv_per_user from 1.6 to 1.41 is significant (p-value<=0.05)\n"
     ]
    }
   ],
   "source": [
    "##-----------------------------\n",
    "#Split df in before and after\n",
    "##-----------------------------\n",
    "df_before = df[df.Period == 'Before Setup Change']\n",
    "df_after = df[df.Period == 'After Setup Change']\n",
    "\n",
    "##-----------------------------\n",
    "# Comparison of Average Transactions per User using T-Test\n",
    "##-----------------------------\n",
    "mean1 = df_before.avg_conv_per_user.iloc[0]\n",
    "std1 = np.sqrt(df_before.var_conv_per_user.iloc[0])\n",
    "nobs1 = df_before.nb_users.iloc[0]\n",
    "\n",
    "mean2 = df_after.avg_conv_per_user.iloc[0]\n",
    "std2 = np.sqrt(df_after.var_conv_per_user.iloc[0])\n",
    "nobs2 = df_after.nb_users.iloc[0]\n",
    "\n",
    "mean2 = df_after.loc[df['Period'] == 'After Setup Change', 'avg_conv_per_user'].values[0]\n",
    "std2 = np.sqrt(df.loc[df['Period'] == 'After Setup Change', 'var_conv_per_user'].values[0])\n",
    "nobs2 = df_after.loc[df['Period'] == 'After Setup Change', 'nb_users'].values[0]\n",
    "\n",
    "t_stat, p_value = ttest_ind_from_stats(mean1, std1, nobs1,\n",
    "                                              mean2, std2, nobs2,\n",
    "                                              alternative='two-sided', equal_var=False)\n",
    "\n",
    "print('Average Transactions per User:')\n",
    "print(f'T-statistic: {t_stat:.4f}')\n",
    "print(f'P-value: {p_value:.4e}')\n",
    "\n",
    "print('------')\n",
    "metric='avg_conv_per_user'\n",
    "label_input = ['','<='] if p_value < 0.05 else ['not ','>']\n",
    "print(f'The difference in {metric} from {mean1} to {mean2} is {label_input[0]}significant (p-value{label_input[1]}0.05)')\n",
    "##-----------------------------"
   ]
  },
  {
   "cell_type": "code",
   "execution_count": 203,
   "id": "13816856-37a0-4722-a754-cf37686b320a",
   "metadata": {},
   "outputs": [
    {
     "name": "stdout",
     "output_type": "stream",
     "text": [
      "\n",
      "Average Ticket Size:\n",
      "T-statistic: -7.9179\n",
      "P-value: 2.6084e-15\n",
      "------\n",
      "The difference in avg_ticket from 33.43 to 34.53 is significant (p-value<=0.05)\n"
     ]
    }
   ],
   "source": [
    "##-----------------------------\n",
    "# Comparison of Average Ticket Size using T-Test\n",
    "##-----------------------------\n",
    "\n",
    "mean1 = df_before.avg_ticket.iloc[0]\n",
    "std1 = np.sqrt(df_before.var_avg_ticket.iloc[0])\n",
    "nobs1 = df_before.nb_users.iloc[0]\n",
    "\n",
    "mean2 = df_after.avg_ticket.iloc[0]\n",
    "std2 = np.sqrt(df_after.var_avg_ticket.iloc[0])\n",
    "nobs2 = df_after.nb_users.iloc[0]\n",
    "\n",
    "t_stat, p_value = ttest_ind_from_stats(mean1, std1, nobs1,\n",
    "                                              mean2, std2, nobs2,\n",
    "                                              alternative='two-sided', equal_var=False)\n",
    "\n",
    "\n",
    "\n",
    "print('\\nAverage Ticket Size:')\n",
    "print(f'T-statistic: {t_stat:.4f}')\n",
    "print(f'P-value: {p_value:.4e}')\n",
    "\n",
    "print('------')\n",
    "metric='avg_ticket'\n",
    "label_input = ['','<='] if p_value < 0.05 else ['not ','>']\n",
    "print(f'The difference in {metric} from {mean1} to {mean2} is {label_input[0]}significant (p-value{label_input[1]}0.05)')"
   ]
  },
  {
   "cell_type": "code",
   "execution_count": 229,
   "id": "94a472a3-87b5-4311-bebf-f02a8457a372",
   "metadata": {},
   "outputs": [
    {
     "name": "stdout",
     "output_type": "stream",
     "text": [
      "\n",
      "Comparison of CTR:\n",
      "Z-statistic: -2.8236\n",
      "P-value: 0.0047\n",
      "------\n",
      "The difference in CTR from 0.0470 to 0.0485 is significant (p-value<=0.05)\n"
     ]
    }
   ],
   "source": [
    "##-----------------------------\n",
    "# Comparison of CTR using Z-Test\n",
    "##-----------------------------\n",
    "\n",
    "# Counts of successes (number of clicks)\n",
    "count = np.array([df_before.nb_clicks.iloc[0], df_after.nb_clicks.iloc[0]])\n",
    "\n",
    "# Number of trials (number of displays)\n",
    "nobs = np.array([df_before.nb_displays.iloc[0], df_after.nb_displays.iloc[0]])\n",
    "\n",
    "mean1 = df_before.CTR.iloc[0]\n",
    "mean2 = df_after.CTR.iloc[0]\n",
    "\n",
    "# Perform the two-proportion z-test\n",
    "stat, p_value = proportions_ztest(count, nobs)\n",
    "print('\\nComparison of CTR:')\n",
    "print(f'Z-statistic: {stat:.4f}')\n",
    "print(f'P-value: {p_value:.4f}')\n",
    "\n",
    "print('------')\n",
    "metric='CTR'\n",
    "label_input = ['','<='] if p_value < 0.05 else ['not ','>']\n",
    "print(f'The difference in {metric} from {mean1:.4f} to {mean2:.4f} is {label_input[0]}significant (p-value{label_input[1]}0.05)')"
   ]
  },
  {
   "cell_type": "code",
   "execution_count": 163,
   "id": "86ce343e-6283-4c0f-a50e-4b21b481a5ce",
   "metadata": {},
   "outputs": [
    {
     "data": {
      "text/html": [
       "<div>\n",
       "<style scoped>\n",
       "    .dataframe tbody tr th:only-of-type {\n",
       "        vertical-align: middle;\n",
       "    }\n",
       "\n",
       "    .dataframe tbody tr th {\n",
       "        vertical-align: top;\n",
       "    }\n",
       "\n",
       "    .dataframe thead th {\n",
       "        text-align: right;\n",
       "    }\n",
       "</style>\n",
       "<table border=\"1\" class=\"dataframe\">\n",
       "  <thead>\n",
       "    <tr style=\"text-align: right;\">\n",
       "      <th></th>\n",
       "      <th>Period</th>\n",
       "      <th>nb_users</th>\n",
       "      <th>avg_conv_per_user</th>\n",
       "      <th>var_conv_per_user</th>\n",
       "      <th>avg_ticket</th>\n",
       "      <th>var_avg_ticket</th>\n",
       "      <th>nb_displays</th>\n",
       "      <th>nb_clicks</th>\n",
       "      <th>nb_conversions</th>\n",
       "      <th>CTR</th>\n",
       "      <th>CR</th>\n",
       "    </tr>\n",
       "  </thead>\n",
       "  <tbody>\n",
       "    <tr>\n",
       "      <th>0</th>\n",
       "      <td>Before Setup Change</td>\n",
       "      <td>53430</td>\n",
       "      <td>1.60</td>\n",
       "      <td>0.5</td>\n",
       "      <td>33.43</td>\n",
       "      <td>150.0</td>\n",
       "      <td>1058307</td>\n",
       "      <td>49740</td>\n",
       "      <td>4904</td>\n",
       "      <td>0.047</td>\n",
       "      <td>0.099</td>\n",
       "    </tr>\n",
       "    <tr>\n",
       "      <th>1</th>\n",
       "      <td>After Setup Change</td>\n",
       "      <td>9701</td>\n",
       "      <td>1.41</td>\n",
       "      <td>0.6</td>\n",
       "      <td>33.53</td>\n",
       "      <td>160.0</td>\n",
       "      <td>190495</td>\n",
       "      <td>11620</td>\n",
       "      <td>1692</td>\n",
       "      <td>0.050</td>\n",
       "      <td>0.146</td>\n",
       "    </tr>\n",
       "  </tbody>\n",
       "</table>\n",
       "</div>"
      ],
      "text/plain": [
       "                Period  nb_users  avg_conv_per_user  var_conv_per_user  \\\n",
       "0  Before Setup Change     53430               1.60                0.5   \n",
       "1   After Setup Change      9701               1.41                0.6   \n",
       "\n",
       "   avg_ticket  var_avg_ticket  nb_displays  nb_clicks  nb_conversions    CTR  \\\n",
       "0       33.43           150.0      1058307      49740            4904  0.047   \n",
       "1       33.53           160.0       190495      11620            1692  0.050   \n",
       "\n",
       "      CR  \n",
       "0  0.099  \n",
       "1  0.146  "
      ]
     },
     "execution_count": 163,
     "metadata": {},
     "output_type": "execute_result"
    }
   ],
   "source": [
    "df"
   ]
  },
  {
   "cell_type": "code",
   "execution_count": 161,
   "id": "d2addfc5-50fd-4b27-b116-e2d90b4d1e11",
   "metadata": {},
   "outputs": [
    {
     "name": "stdout",
     "output_type": "stream",
     "text": [
      "\n",
      "Comparison of CR:\n",
      "Z-statistic: -14.7326\n",
      "P-value: 3.9838e-49\n",
      "------\n",
      "The difference in CR from 0.099 to 0.146 is significant (p-value<=0.05)\n"
     ]
    }
   ],
   "source": [
    "##-----------------------------\n",
    "# Comparison of CR using Z-Test\n",
    "##-----------------------------\n",
    "\n",
    "# Counts of successes (number of clicks)\n",
    "count = np.array([df_before.nb_conversions.iloc[0], df_after.nb_conversions.iloc[0]])\n",
    "\n",
    "# Number of trials (number of displays)\n",
    "nobs = np.array([df_before.nb_clicks.iloc[0], df_after.nb_clicks.iloc[0]])\n",
    "\n",
    "mean1 = df_before.CR.iloc[0]\n",
    "mean2 = df_after.CR.iloc[0]\n",
    "\n",
    "# Perform the two-proportion z-test\n",
    "stat, p_value = proportions_ztest(count, nobs)\n",
    "print('\\nComparison of CR:')\n",
    "print(f'Z-statistic: {stat:.4f}')\n",
    "print(f'P-value: {p_value:.4e}')\n",
    "\n",
    "print('------')\n",
    "metric='CR'\n",
    "label_input = ['','<='] if p_value < 0.05 else ['not ','>']\n",
    "print(f'The difference in {metric} from {mean1} to {mean2} is {label_input[0]}significant (p-value{label_input[1]}0.05)')"
   ]
  },
  {
   "cell_type": "markdown",
   "id": "7ffc44d4-bf3f-4466-9db9-05f5cd212f51",
   "metadata": {},
   "source": [
    "# Conclusion"
   ]
  },
  {
   "cell_type": "markdown",
   "id": "f9daa407-698f-4922-81b5-e5566cd8ae97",
   "metadata": {},
   "source": [
    "Because the Sample sizes are big, in some notable cases (like CTR), the small practical difference in CTR (0.15% difference) is negligible, yet statistically relevant. Although it's unlikely the change was by chance, it's too small to celebrate a CTR increase, so analysts need to add judgement and business background when providing conclusions and suggesting actions backed up on data.\n",
    "\n",
    "Other changes like the CR (0.099 -> 0.146) are significant and meanigful, so that's a good KPI to highlight.\n",
    "\n",
    "The sample size differences are also evident (nb of users, displays, clicks, conversions, etc) so using statistical methods bring certainty to a scenario where charts based on absolute metrics (like displays and clicks) are meaningless when compared to KPI charts (like CTR, CR, Avgs).\n",
    "\n",
    "Knowing better your metrics and tests, with practical sense as in this notebook helps the analyst to distinguish each situation and choose the best test."
   ]
  }
 ],
 "metadata": {
  "kernelspec": {
   "display_name": "Python 3 (ipykernel)",
   "language": "python",
   "name": "python3"
  },
  "language_info": {
   "codemirror_mode": {
    "name": "ipython",
    "version": 3
   },
   "file_extension": ".py",
   "mimetype": "text/x-python",
   "name": "python",
   "nbconvert_exporter": "python",
   "pygments_lexer": "ipython3",
   "version": "3.11.7"
  }
 },
 "nbformat": 4,
 "nbformat_minor": 5
}
