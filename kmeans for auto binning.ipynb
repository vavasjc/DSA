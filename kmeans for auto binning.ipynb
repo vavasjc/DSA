{
 "cells": [
  {
   "cell_type": "markdown",
   "id": "0d34dcc7",
   "metadata": {},
   "source": [
    "### Histogram generation for determined number of bins (no automatic choice of bins, must choose a value)"
   ]
  },
  {
   "cell_type": "code",
   "execution_count": 32,
   "id": "ff50ea36",
   "metadata": {},
   "outputs": [
    {
     "data": {
      "image/png": "[encoded data removed]",
      "text/plain": [
       "<Figure size 432x288 with 1 Axes>"
      ]
     },
     "metadata": {
      "needs_background": "light"
     },
     "output_type": "display_data"
    }
   ],
   "source": [
    "import numpy as np\n",
    "import matplotlib.pyplot as plt\n",
    "\n",
    "# Gerando dados não normalizados\n",
    "np.random.seed(42)\n",
    "dados = np.concatenate([np.random.exponential(scale=1, size=100),\n",
    "                        np.random.normal(loc=10, scale=2, size=100)])\n",
    "\n",
    "# Plotando o histograma dos dados\n",
    "plt.hist(dados, bins=20, color='skyblue', edgecolor='black')\n",
    "plt.title('Histogram of non normalized data points')\n",
    "plt.xlabel('Values')\n",
    "plt.ylabel('Frequency')\n",
    "plt.show()\n"
   ]
  },
  {
   "cell_type": "markdown",
   "id": "6aac43d9",
   "metadata": {},
   "source": [
    "### Manual binning using Scott Rule (generates balanced number of bins)"
   ]
  },
  {
   "cell_type": "code",
   "execution_count": 34,
   "id": "fdb92690",
   "metadata": {},
   "outputs": [
    {
     "data": {
      "image/png": "[encoded data removed]",
      "text/plain": [
       "<Figure size 432x288 with 1 Axes>"
      ]
     },
     "metadata": {
      "needs_background": "light"
     },
     "output_type": "display_data"
    }
   ],
   "source": [
    "# Ideal nb of bins through Scott rule\n",
    "n = len(dados)\n",
    "width_bin = 3.5 * np.std(dados) / (n ** (1/3))\n",
    "\n",
    "# Number of bins generated thanks to width, as (max_val - min_val) / width\n",
    "n_bins = int((dados.max() - dados.min()) / width_bin)\n",
    "\n",
    "# Hist plot with determined nb of bins\n",
    "plt.hist(dados, bins=n_bins, color='skyblue', edgecolor='black')\n",
    "plt.title('Histogram with bins determined by Scott rule')\n",
    "plt.xlabel('Value')\n",
    "plt.ylabel('Frequency')\n",
    "plt.show()"
   ]
  },
  {
   "cell_type": "code",
   "execution_count": 6,
   "id": "dad7ab2e",
   "metadata": {},
   "outputs": [
    {
     "data": {
      "text/plain": [
       "5"
      ]
     },
     "execution_count": 6,
     "metadata": {},
     "output_type": "execute_result"
    }
   ],
   "source": [
    "n_bins"
   ]
  },
  {
   "cell_type": "code",
   "execution_count": 24,
   "id": "4ce681c1",
   "metadata": {},
   "outputs": [
    {
     "data": {
      "text/plain": [
       "2.851146342241247"
      ]
     },
     "execution_count": 24,
     "metadata": {},
     "output_type": "execute_result"
    }
   ],
   "source": [
    "#width is fixed, therefore all bins have same size.\n",
    "width_bin"
   ]
  },
  {
   "cell_type": "code",
   "execution_count": 30,
   "id": "5f889c4f",
   "metadata": {},
   "outputs": [
    {
     "data": {
      "image/png": "[encoded data removed]",
      "text/plain": [
       "<Figure size 432x288 with 1 Axes>"
      ]
     },
     "metadata": {
      "needs_background": "light"
     },
     "output_type": "display_data"
    },
    {
     "data": {
      "text/html": [
       "<div>\n",
       "<style scoped>\n",
       "    .dataframe tbody tr th:only-of-type {\n",
       "        vertical-align: middle;\n",
       "    }\n",
       "\n",
       "    .dataframe tbody tr th {\n",
       "        vertical-align: top;\n",
       "    }\n",
       "\n",
       "    .dataframe thead th {\n",
       "        text-align: right;\n",
       "    }\n",
       "</style>\n",
       "<table border=\"1\" class=\"dataframe\">\n",
       "  <thead>\n",
       "    <tr style=\"text-align: right;\">\n",
       "      <th></th>\n",
       "      <th>Bin</th>\n",
       "      <th>Lower bound</th>\n",
       "      <th>Upper bound</th>\n",
       "      <th>Number of observations</th>\n",
       "    </tr>\n",
       "  </thead>\n",
       "  <tbody>\n",
       "    <tr>\n",
       "      <th>0</th>\n",
       "      <td>1</td>\n",
       "      <td>0.489446</td>\n",
       "      <td>2.261539</td>\n",
       "      <td>46</td>\n",
       "    </tr>\n",
       "    <tr>\n",
       "      <th>1</th>\n",
       "      <td>2</td>\n",
       "      <td>2.261539</td>\n",
       "      <td>7.953777</td>\n",
       "      <td>22</td>\n",
       "    </tr>\n",
       "    <tr>\n",
       "      <th>2</th>\n",
       "      <td>3</td>\n",
       "      <td>7.953777</td>\n",
       "      <td>10.249695</td>\n",
       "      <td>41</td>\n",
       "    </tr>\n",
       "    <tr>\n",
       "      <th>3</th>\n",
       "      <td>4</td>\n",
       "      <td>10.249695</td>\n",
       "      <td>12.548923</td>\n",
       "      <td>37</td>\n",
       "    </tr>\n",
       "  </tbody>\n",
       "</table>\n",
       "</div>"
      ],
      "text/plain": [
       "   Bin  Lower bound  Upper bound  Number of observations\n",
       "0    1     0.489446     2.261539                      46\n",
       "1    2     2.261539     7.953777                      22\n",
       "2    3     7.953777    10.249695                      41\n",
       "3    4    10.249695    12.548923                      37"
      ]
     },
     "metadata": {},
     "output_type": "display_data"
    }
   ],
   "source": [
    "import numpy as np\n",
    "import matplotlib.pyplot as plt\n",
    "from sklearn.cluster import KMeans\n",
    "\n",
    "# Number of bins you want to generate.\n",
    "n_bins = 5\n",
    "\n",
    "# With k-means algorithm, we group data in clusters corresponding to bins\n",
    "kmeans = KMeans(n_clusters=n_bins, random_state=42)\n",
    "\n",
    "#reshape(-1,1) converts an array into a column. no need to do it if you are applying it over a df column, \n",
    "#like kmeans.fit(df['dados'])\n",
    "kmeans.fit(dados.reshape(-1, 1))\n",
    "\n",
    "\n",
    "# bins limits are obtained by getting the centroids from the cluster (comes as a column)\n",
    "#we .flatten() it so it become an unidimensional array.\n",
    "limites_bins = np.sort(kmeans.cluster_centers_.flatten())\n",
    "\n",
    "# Hist plot with bins determined by k-means\n",
    "plt.hist(dados, bins=limites_bins, color='skyblue', edgecolor='black')\n",
    "plt.title('Histogram with K-means determined bins')\n",
    "plt.xlabel('Valores')\n",
    "plt.ylabel('Frequência')\n",
    "plt.show()\n",
    "\n",
    "import pandas as pd\n",
    "\n",
    "# Observation number in each bin\n",
    "counts, _ = np.histogram(dados, bins=limites_bins)\n",
    "\n",
    "#df creation with bins and number of observations (counts)\n",
    "#this is a pretty way of showing the lower and upper bounds\n",
    "df_bins = pd.DataFrame({'Bin': range(1, len(limites_bins)), \n",
    "                        'Lower bound': limites_bins[:-1],\n",
    "                        'Upper bound': limites_bins[1:],\n",
    "                        'Number of observations': counts})\n",
    "\n",
    "# DataFrame show\n",
    "display(df_bins)\n",
    "\n"
   ]
  }
 ],
 "metadata": {
  "kernelspec": {
   "display_name": "Python 3 (ipykernel)",
   "language": "python",
   "name": "python3"
  },
  "language_info": {
   "codemirror_mode": {
    "name": "ipython",
    "version": 3
   },
   "file_extension": ".py",
   "mimetype": "text/x-python",
   "name": "python",
   "nbconvert_exporter": "python",
   "pygments_lexer": "ipython3",
   "version": "3.9.12"
  }
 },
 "nbformat": 4,
 "nbformat_minor": 5
}
