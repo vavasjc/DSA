{
 "cells": [
  {
   "cell_type": "code",
   "execution_count": 33,
   "id": "08fe71ae",
   "metadata": {},
   "outputs": [
    {
     "data": {
      "image/png": "[encoded data removed]",
      "text/plain": [
       "<Figure size 864x288 with 1 Axes>"
      ]
     },
     "metadata": {
      "needs_background": "light"
     },
     "output_type": "display_data"
    },
    {
     "data": {
      "image/png": "[encoded data removed]",
      "text/plain": [
       "<Figure size 864x288 with 1 Axes>"
      ]
     },
     "metadata": {
      "needs_background": "light"
     },
     "output_type": "display_data"
    },
    {
     "name": "stdout",
     "output_type": "stream",
     "text": [
      "Outliers that were removed: [-342.96176561  458.02537499  627.9097236  -436.19010101  511.83212127\n",
      " -354.53299644 -347.64547126  444.85730973]\n",
      "Descriptive statistics after outlier removal\n"
     ]
    },
    {
     "data": {
      "text/html": [
       "<div>\n",
       "<style scoped>\n",
       "    .dataframe tbody tr th:only-of-type {\n",
       "        vertical-align: middle;\n",
       "    }\n",
       "\n",
       "    .dataframe tbody tr th {\n",
       "        vertical-align: top;\n",
       "    }\n",
       "\n",
       "    .dataframe thead th {\n",
       "        text-align: right;\n",
       "    }\n",
       "</style>\n",
       "<table border=\"1\" class=\"dataframe\">\n",
       "  <thead>\n",
       "    <tr style=\"text-align: right;\">\n",
       "      <th></th>\n",
       "      <th>value</th>\n",
       "    </tr>\n",
       "  </thead>\n",
       "  <tbody>\n",
       "    <tr>\n",
       "      <th>count</th>\n",
       "      <td>992.000000</td>\n",
       "    </tr>\n",
       "    <tr>\n",
       "      <th>mean</th>\n",
       "      <td>52.760599</td>\n",
       "    </tr>\n",
       "    <tr>\n",
       "      <th>std</th>\n",
       "      <td>141.960744</td>\n",
       "    </tr>\n",
       "    <tr>\n",
       "      <th>min</th>\n",
       "      <td>-320.746675</td>\n",
       "    </tr>\n",
       "    <tr>\n",
       "      <th>25%</th>\n",
       "      <td>-45.937739</td>\n",
       "    </tr>\n",
       "    <tr>\n",
       "      <th>50%</th>\n",
       "      <td>53.795092</td>\n",
       "    </tr>\n",
       "    <tr>\n",
       "      <th>75%</th>\n",
       "      <td>146.810451</td>\n",
       "    </tr>\n",
       "    <tr>\n",
       "      <th>max</th>\n",
       "      <td>436.003970</td>\n",
       "    </tr>\n",
       "  </tbody>\n",
       "</table>\n",
       "</div>"
      ],
      "text/plain": [
       "            value\n",
       "count  992.000000\n",
       "mean    52.760599\n",
       "std    141.960744\n",
       "min   -320.746675\n",
       "25%    -45.937739\n",
       "50%     53.795092\n",
       "75%    146.810451\n",
       "max    436.003970"
      ]
     },
     "metadata": {},
     "output_type": "display_data"
    }
   ],
   "source": [
    "import numpy as np\n",
    "import seaborn as sns\n",
    "import matplotlib.pyplot as plt\n",
    "import pandas as pd\n",
    "\n",
    "# Generate a random sample of values\n",
    "np.random.seed(42)\n",
    "data = np.random.normal(loc=50, scale=150, size=1000)\n",
    "\n",
    "# Draw the initial boxplot\n",
    "plt.figure(figsize=(12, 4))\n",
    "sns.boxplot(data=data, color='skyblue')\n",
    "plt.title('Boxplot of Random Data')\n",
    "plt.xlabel('Data')\n",
    "plt.ylabel('Values')\n",
    "\n",
    "# Calculate IQR\n",
    "Q1 = np.percentile(data, 25)\n",
    "Q3 = np.percentile(data, 75)\n",
    "IQR = Q3 - Q1\n",
    "\n",
    "# Determine outliers\n",
    "lower_bound = Q1 - 1.5 * IQR\n",
    "upper_bound = Q3 + 1.5 * IQR\n",
    "outliers = (data < lower_bound) | (data > upper_bound)\n",
    "\n",
    "# Draw swarmplot with different colors for outliers\n",
    "# Use larger markers for outliers\n",
    "#sns.swarmplot(x=data, size=5, edgecolor='black', linewidth=1,\n",
    "#              palette=np.where(outliers, 'red', 'black'), marker='o')\n",
    "sns.boxplot(data=data,orient = 'h')\n",
    "\n",
    "# Show the plot\n",
    "plt.show()\n",
    "\n",
    "# Remove outliers\n",
    "data_cleaned = data[~outliers]\n",
    "\n",
    "# Draw boxplot without outliers\n",
    "plt.figure(figsize=(12, 4))\n",
    "sns.boxplot(data=data_cleaned, color='skyblue',orient = 'h')\n",
    "plt.title('Boxplot of Data without Outliers')\n",
    "plt.xlabel('Data')\n",
    "plt.ylabel('Values')\n",
    "plt.show()\n",
    "print(f'Outliers that were removed: {data[outliers]}')\n",
    "\n",
    "\n",
    "# Convert cleaned data to a Pandas Series to use describe()\n",
    "data_cleaned_series = pd.Series(data_cleaned)\n",
    "\n",
    "# Print descriptive statistics\n",
    "print('Descriptive statistics after outlier removal')\n",
    "display(pd.DataFrame(data_cleaned_series.describe()).rename(columns={0:'value'}))"
   ]
  }
 ],
 "metadata": {
  "kernelspec": {
   "display_name": "Python 3 (ipykernel)",
   "language": "python",
   "name": "python3"
  },
  "language_info": {
   "codemirror_mode": {
    "name": "ipython",
    "version": 3
   },
   "file_extension": ".py",
   "mimetype": "text/x-python",
   "name": "python",
   "nbconvert_exporter": "python",
   "pygments_lexer": "ipython3",
   "version": "3.9.12"
  }
 },
 "nbformat": 4,
 "nbformat_minor": 5
}
